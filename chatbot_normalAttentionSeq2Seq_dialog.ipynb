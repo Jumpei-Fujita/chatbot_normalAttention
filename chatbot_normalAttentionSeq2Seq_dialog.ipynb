{
  "nbformat": 4,
  "nbformat_minor": 0,
  "metadata": {
    "colab": {
      "name": "chatbot_normalAttentionSeq2Seq\\dialog",
      "provenance": [],
      "collapsed_sections": []
    },
    "kernelspec": {
      "name": "python3",
      "display_name": "Python 3"
    },
    "accelerator": "GPU"
  },
  "cells": [
    {
      "cell_type": "code",
      "metadata": {
        "id": "tyw3ygyWt1FL"
      },
      "source": [
        "#データの読み込み\n",
        "import torch\n",
        "import pandas as pd\n",
        "header = [\"question\", \"answer\"]\n",
        "dataset = pd.read_csv(\"/content/drive/My Drive/Chatbot/dataset/dialogs.txt\", sep='\\t',header=None, names=header)\n",
        "device = torch.device(\"cuda\")\n",
        "# https://www.kaggle.com/grafstor/simple-dialogs-for-chatbot"
      ],
      "execution_count": null,
      "outputs": []
    },
    {
      "cell_type": "code",
      "metadata": {
        "id": "Vn8TaetFwKhQ",
        "outputId": "3ad8cce9-1273-4e02-e7e7-09c5549b82f2",
        "colab": {
          "base_uri": "https://localhost:8080/",
          "height": 419
        }
      },
      "source": [
        "dataset"
      ],
      "execution_count": null,
      "outputs": [
        {
          "output_type": "execute_result",
          "data": {
            "text/html": [
              "<div>\n",
              "<style scoped>\n",
              "    .dataframe tbody tr th:only-of-type {\n",
              "        vertical-align: middle;\n",
              "    }\n",
              "\n",
              "    .dataframe tbody tr th {\n",
              "        vertical-align: top;\n",
              "    }\n",
              "\n",
              "    .dataframe thead th {\n",
              "        text-align: right;\n",
              "    }\n",
              "</style>\n",
              "<table border=\"1\" class=\"dataframe\">\n",
              "  <thead>\n",
              "    <tr style=\"text-align: right;\">\n",
              "      <th></th>\n",
              "      <th>question</th>\n",
              "      <th>answer</th>\n",
              "    </tr>\n",
              "  </thead>\n",
              "  <tbody>\n",
              "    <tr>\n",
              "      <th>0</th>\n",
              "      <td>hi, how are you doing?</td>\n",
              "      <td>i'm fine. how about yourself?</td>\n",
              "    </tr>\n",
              "    <tr>\n",
              "      <th>1</th>\n",
              "      <td>i'm fine. how about yourself?</td>\n",
              "      <td>i'm pretty good. thanks for asking.</td>\n",
              "    </tr>\n",
              "    <tr>\n",
              "      <th>2</th>\n",
              "      <td>i'm pretty good. thanks for asking.</td>\n",
              "      <td>no problem. so how have you been?</td>\n",
              "    </tr>\n",
              "    <tr>\n",
              "      <th>3</th>\n",
              "      <td>no problem. so how have you been?</td>\n",
              "      <td>i've been great. what about you?</td>\n",
              "    </tr>\n",
              "    <tr>\n",
              "      <th>4</th>\n",
              "      <td>i've been great. what about you?</td>\n",
              "      <td>i've been good. i'm in school right now.</td>\n",
              "    </tr>\n",
              "    <tr>\n",
              "      <th>...</th>\n",
              "      <td>...</td>\n",
              "      <td>...</td>\n",
              "    </tr>\n",
              "    <tr>\n",
              "      <th>3720</th>\n",
              "      <td>that's a good question. maybe it's not old age.</td>\n",
              "      <td>are you right-handed?</td>\n",
              "    </tr>\n",
              "    <tr>\n",
              "      <th>3721</th>\n",
              "      <td>are you right-handed?</td>\n",
              "      <td>yes. all my life.</td>\n",
              "    </tr>\n",
              "    <tr>\n",
              "      <th>3722</th>\n",
              "      <td>yes. all my life.</td>\n",
              "      <td>you're wearing out your right hand. stop using...</td>\n",
              "    </tr>\n",
              "    <tr>\n",
              "      <th>3723</th>\n",
              "      <td>you're wearing out your right hand. stop using...</td>\n",
              "      <td>but i do all my writing with my right hand.</td>\n",
              "    </tr>\n",
              "    <tr>\n",
              "      <th>3724</th>\n",
              "      <td>but i do all my writing with my right hand.</td>\n",
              "      <td>start typing instead. that way your left hand ...</td>\n",
              "    </tr>\n",
              "  </tbody>\n",
              "</table>\n",
              "<p>3725 rows × 2 columns</p>\n",
              "</div>"
            ],
            "text/plain": [
              "                                               question                                             answer\n",
              "0                                hi, how are you doing?                      i'm fine. how about yourself?\n",
              "1                         i'm fine. how about yourself?                i'm pretty good. thanks for asking.\n",
              "2                   i'm pretty good. thanks for asking.                  no problem. so how have you been?\n",
              "3                     no problem. so how have you been?                   i've been great. what about you?\n",
              "4                      i've been great. what about you?           i've been good. i'm in school right now.\n",
              "...                                                 ...                                                ...\n",
              "3720    that's a good question. maybe it's not old age.                              are you right-handed?\n",
              "3721                              are you right-handed?                                  yes. all my life.\n",
              "3722                                  yes. all my life.  you're wearing out your right hand. stop using...\n",
              "3723  you're wearing out your right hand. stop using...        but i do all my writing with my right hand.\n",
              "3724        but i do all my writing with my right hand.  start typing instead. that way your left hand ...\n",
              "\n",
              "[3725 rows x 2 columns]"
            ]
          },
          "metadata": {
            "tags": []
          },
          "execution_count": 2
        }
      ]
    },
    {
      "cell_type": "code",
      "metadata": {
        "id": "JhZMVCrUvE9m"
      },
      "source": [
        "#辞書の作成\n",
        "import torch\n",
        "from torch.utils.data import DataLoader\n",
        "\n",
        "\n",
        "class EncoderDecoder(object):\n",
        "    def __init__(self, sentences, bos=False, eos=False):\n",
        "        # word_to_idの辞書\n",
        "        self.w2i = {}\n",
        "        # id_to_wordの辞書\n",
        "        self.i2w = {}\n",
        "        # 文頭の記号を入れるか\n",
        "        self.bos = bos\n",
        "        # 文末の記号を入れるか\n",
        "        self.eos = eos\n",
        "        # 予約語(パディング, 文章の始まり)\n",
        "        self.special_chars = ['<pad>', '<s>', '</s>', '<unk>']\n",
        "        self.bos_char = self.special_chars[1]\n",
        "        self.eos_char = self.special_chars[2]\n",
        "        self.oov_char = self.special_chars[3]\n",
        "        # 全ての単語を読み込んで辞書作成\n",
        "        self.fit(sentences)\n",
        "\n",
        "    # コールされる関数\n",
        "    def __call__(self, sentence):\n",
        "        return self.transform(sentence)\n",
        "\n",
        "    # 辞書作成\n",
        "    def fit(self, sentences):\n",
        "        self._words = set()\n",
        "\n",
        "        # 未知の単語の集合を作成する\n",
        "        for sentence in sentences:\n",
        "            self._words.update(sentence)\n",
        "\n",
        "        # 予約語分ずらしてidを振る\n",
        "        self.w2i = {w: (i + len(self.special_chars))\n",
        "                    for i, w in enumerate(self._words)}\n",
        "\n",
        "        # 予約語を辞書に追加する(<pad>:0, <s>:1, </s>:2, <unk>:3)\n",
        "        for i, w in enumerate(self.special_chars):\n",
        "            self.w2i[w] = i\n",
        "\n",
        "        # word_to_idの辞書を用いてid_to_wordの辞書を作成する\n",
        "        self.i2w = {i: w for w, i in self.w2i.items()}\n",
        "\n",
        "    # 1文をidに変換する\n",
        "    def transform(self, sentence):\n",
        "        # 指定があれば始まりと終わりの記号を追加する\n",
        "        if self.bos:\n",
        "            sentence = [self.bos_char] + sentence\n",
        "        if self.eos:\n",
        "            sentence = sentence + [self.eos_char]\n",
        "        output = self.encode(sentence)\n",
        "\n",
        "        return output\n",
        "\n",
        "    # 1文ずつidにする\n",
        "    def encode(self, sentence):\n",
        "        output = []\n",
        "        for w in sentence:\n",
        "            if w not in self.w2i:\n",
        "                idx = self.w2i[self.oov_char]\n",
        "            else:\n",
        "                idx = self.w2i[w]\n",
        "            output.append(idx)\n",
        "\n",
        "        return output"
      ],
      "execution_count": null,
      "outputs": []
    },
    {
      "cell_type": "code",
      "metadata": {
        "id": "Slqv-uODvLjg"
      },
      "source": [
        "#入力サイズを同じ長さに揃える\n",
        "def padding(sentence, max_length, pad):\n",
        "  length = len(sentence)\n",
        "  sent = sentence.copy()\n",
        "  sent.append(\"</s>\")\n",
        "  for i in range(max_length - length):\n",
        "    sent.append(pad)\n",
        "  return sent"
      ],
      "execution_count": null,
      "outputs": []
    },
    {
      "cell_type": "code",
      "metadata": {
        "id": "HCYuX93hwrwn"
      },
      "source": [
        "def calc_max(matrix):\n",
        "  leng = []\n",
        "  for i in range(len(matrix)):\n",
        "    leng.append(len(matrix[i]))\n",
        "  max_length = np.max(leng)\n",
        "  return max_length"
      ],
      "execution_count": null,
      "outputs": []
    },
    {
      "cell_type": "code",
      "metadata": {
        "id": "JV72j7tpwv9q"
      },
      "source": [
        "a = dataset.answer[0]"
      ],
      "execution_count": null,
      "outputs": []
    },
    {
      "cell_type": "code",
      "metadata": {
        "id": "o8I8V5YC4RZX"
      },
      "source": [
        "import re\n",
        "def arrange_data(text):\n",
        "  text = str(text)\n",
        "  punctuation = '\"#$%&\\()*+-/:;<=>[\\\\]^_`{|}~'\n",
        "  text = text.lower()\n",
        "  all_text = ''.join([c for c in text if c not in punctuation])\n",
        "  all_text = all_text.replace(\".\", \" . \")\n",
        "  all_text = all_text.replace(\"!\", \" ! \")\n",
        "  all_text = all_text.replace(\"?\", \" ? \")\n",
        "  s_text = all_text.split()\n",
        "  return s_text"
      ],
      "execution_count": null,
      "outputs": []
    },
    {
      "cell_type": "code",
      "metadata": {
        "id": "0TUs5p-S1dGM"
      },
      "source": [
        "pre_questions1 = dataset.question \n",
        "pre_answers1 = dataset.answer\n",
        "\n",
        "pre_questions2 = []\n",
        "pre_answers2 = []\n",
        "all_vocabs = []\n",
        "\n",
        "data_num = len(dataset)\n",
        "for i in range(data_num):\n",
        "  pre_questions2.append(arrange_data(pre_questions1[i]))\n",
        "  pre_answers2.append(arrange_data(pre_answers1[i]))\n",
        "  all_vocabs.append(arrange_data(pre_answers1[i]))\n",
        "  all_vocabs.append(arrange_data(pre_questions1[i]))\n"
      ],
      "execution_count": null,
      "outputs": []
    },
    {
      "cell_type": "code",
      "metadata": {
        "id": "Gslumn3AkAEO",
        "outputId": "f92bfce2-71ba-407c-e6b8-248528654c36",
        "colab": {
          "base_uri": "https://localhost:8080/",
          "height": 102
        }
      },
      "source": [
        "pre_questions2[0:5]"
      ],
      "execution_count": null,
      "outputs": [
        {
          "output_type": "execute_result",
          "data": {
            "text/plain": [
              "[['hi,', 'how', 'are', 'you', 'doing', '?'],\n",
              " [\"i'm\", 'fine', '.', 'how', 'about', 'yourself', '?'],\n",
              " [\"i'm\", 'pretty', 'good', '.', 'thanks', 'for', 'asking', '.'],\n",
              " ['no', 'problem', '.', 'so', 'how', 'have', 'you', 'been', '?'],\n",
              " [\"i've\", 'been', 'great', '.', 'what', 'about', 'you', '?']]"
            ]
          },
          "metadata": {
            "tags": []
          },
          "execution_count": 9
        }
      ]
    },
    {
      "cell_type": "code",
      "metadata": {
        "id": "4kK-ZpZO1mxR"
      },
      "source": [
        "transform_vocab = EncoderDecoder(all_vocabs, bos=True, eos=False)\n",
        "vocab_size = len(transform_vocab.w2i)"
      ],
      "execution_count": null,
      "outputs": []
    },
    {
      "cell_type": "code",
      "metadata": {
        "id": "Jgh-7pYy9ZJx",
        "outputId": "733ddc0a-7075-436c-934b-b50ae60e1b7f",
        "colab": {
          "base_uri": "https://localhost:8080/",
          "height": 51
        }
      },
      "source": [
        "print(transform_vocab.i2w[5])\n",
        "print(transform_vocab.w2i[\".\"])"
      ],
      "execution_count": null,
      "outputs": [
        {
          "output_type": "stream",
          "text": [
            "says\n",
            "1619\n"
          ],
          "name": "stdout"
        }
      ]
    },
    {
      "cell_type": "code",
      "metadata": {
        "id": "3cQyYIFh6zd_",
        "outputId": "ef600b03-2cee-45ce-aea6-b43bd205ee64",
        "colab": {
          "base_uri": "https://localhost:8080/",
          "height": 425
        }
      },
      "source": [
        "all_vocabs[2000:2005]"
      ],
      "execution_count": null,
      "outputs": [
        {
          "output_type": "execute_result",
          "data": {
            "text/plain": [
              "[['oh,',\n",
              "  'no',\n",
              "  'you',\n",
              "  \"don't\",\n",
              "  '.',\n",
              "  'puppies',\n",
              "  \"don't\",\n",
              "  'eat',\n",
              "  'vegetables',\n",
              "  '.'],\n",
              " ['no',\n",
              "  'problem',\n",
              "  '.',\n",
              "  \"i'll\",\n",
              "  'give',\n",
              "  'him',\n",
              "  'food',\n",
              "  'off',\n",
              "  'my',\n",
              "  'plate',\n",
              "  '.'],\n",
              " ['how', 'many', 'are', 'there', '?'],\n",
              " ['look', 'at', 'all', 'these', 'kittens', '!'],\n",
              " ['eight', '.']]"
            ]
          },
          "metadata": {
            "tags": []
          },
          "execution_count": 12
        }
      ]
    },
    {
      "cell_type": "code",
      "metadata": {
        "id": "6tislNOX8qV5",
        "outputId": "f138e62a-007f-4e63-acb9-60d012746deb",
        "colab": {
          "base_uri": "https://localhost:8080/",
          "height": 102
        }
      },
      "source": [
        "pre_questions2[0:5]\n"
      ],
      "execution_count": null,
      "outputs": [
        {
          "output_type": "execute_result",
          "data": {
            "text/plain": [
              "[['hi,', 'how', 'are', 'you', 'doing', '?'],\n",
              " [\"i'm\", 'fine', '.', 'how', 'about', 'yourself', '?'],\n",
              " [\"i'm\", 'pretty', 'good', '.', 'thanks', 'for', 'asking', '.'],\n",
              " ['no', 'problem', '.', 'so', 'how', 'have', 'you', 'been', '?'],\n",
              " [\"i've\", 'been', 'great', '.', 'what', 'about', 'you', '?']]"
            ]
          },
          "metadata": {
            "tags": []
          },
          "execution_count": 13
        }
      ]
    },
    {
      "cell_type": "code",
      "metadata": {
        "id": "vXc2A2k58zPm",
        "outputId": "f233f726-4122-4a73-d366-9cadcebb56da",
        "colab": {
          "base_uri": "https://localhost:8080/",
          "height": 51
        }
      },
      "source": [
        "import numpy as np\n",
        "question_max = calc_max(pre_questions2)\n",
        "answer_max = calc_max(pre_answers2)\n",
        "print(\"question_max: \", question_max)\n",
        "print(\"answer_max: \", answer_max)\n",
        "\n",
        "def data_input_tokens(data_num, sentences, max_length, pad, transform):\n",
        "  long_tensor = sentences[data_num]\n",
        "  pad_tensor = padding(long_tensor, max_length, pad)\n",
        "  if transform != None:\n",
        "    pad_tensor = transform(pad_tensor)\n",
        "  input_tensor = torch.LongTensor(pad_tensor).to(device)\n",
        "  return input_tensor\n",
        "\n",
        "def set_input_data(data_num):\n",
        "  question = data_input_tokens(data_num, pre_questions2, question_max, '<pad>', transform_vocab)\n",
        "  answer = data_input_tokens(data_num, pre_answers2, answer_max, '<pad>', transform_vocab)\n",
        "\n",
        "  return question, answer\n",
        "input_size = question_max+2"
      ],
      "execution_count": null,
      "outputs": [
        {
          "output_type": "stream",
          "text": [
            "question_max:  21\n",
            "answer_max:  21\n"
          ],
          "name": "stdout"
        }
      ]
    },
    {
      "cell_type": "code",
      "metadata": {
        "id": "-34qXc9m-NfY"
      },
      "source": [
        "a, b = set_input_data(0)"
      ],
      "execution_count": null,
      "outputs": []
    },
    {
      "cell_type": "code",
      "metadata": {
        "id": "zzUv_Bi--PDo"
      },
      "source": [
        "pad_index = 0\n",
        "sos_index = 1\n",
        "eos_index = 2\n",
        "period = transform_vocab.w2i[\".\"]\n",
        "device2 = torch.device(\"cpu\")\n",
        "def decode_ids(ids):\n",
        "  ids = ids.to(device2).detach().clone().numpy()\n",
        "  new_ids = []\n",
        "  answer = []\n",
        "  for i in range(len(ids)):\n",
        "    id = ids[i]\n",
        "    if (id != sos_index) and (id != eos_index) and (id != pad_index):\n",
        "      new_ids.append(id)\n",
        "    \n",
        "  for i in range(len(new_ids)):\n",
        "    answer.append(transform_vocab.i2w[new_ids[i]])\n",
        " \n",
        "  new_answer = ' '.join([str(n) for n in answer])\n",
        "  return new_answer\n",
        "\n",
        "def decode_ids_NotCuda(ids):\n",
        "  new_ids = []\n",
        "  answer = []\n",
        "  for i in range(len(ids)):\n",
        "    id = ids[i]\n",
        "    if (id != sos_index) and (id != eos_index) and (id != pad_index):\n",
        "      new_ids.append(id)\n",
        "    \n",
        "  for i in range(len(new_ids)):\n",
        "    answer.append(transform_vocab.i2w[new_ids[i]])\n",
        " \n",
        "  new_answer = ' '.join([str(n) for n in answer])\n",
        "  return new_answer"
      ],
      "execution_count": null,
      "outputs": []
    },
    {
      "cell_type": "code",
      "metadata": {
        "id": "9OHqwNJFC5Of",
        "outputId": "b15ff78e-b7b7-402f-c064-126c98312cf9",
        "colab": {
          "base_uri": "https://localhost:8080/",
          "height": 35
        }
      },
      "source": [
        "decode_ids(b)"
      ],
      "execution_count": null,
      "outputs": [
        {
          "output_type": "execute_result",
          "data": {
            "application/vnd.google.colaboratory.intrinsic+json": {
              "type": "string"
            },
            "text/plain": [
              "\"i'm fine . how about yourself ?\""
            ]
          },
          "metadata": {
            "tags": []
          },
          "execution_count": 17
        }
      ]
    },
    {
      "cell_type": "code",
      "metadata": {
        "id": "ww_cpC1JDAi3"
      },
      "source": [
        "#Encoder\n",
        "import torch\n",
        "import torch.nn as nn\n",
        "import torch.nn.functional as F\n",
        "hidden_size = 256\n",
        "embedding_size = 50\n",
        "drop_out = 0\n",
        "n_layer_en = 1\n",
        "\n",
        "class Encoder(nn.Module):\n",
        "  def __init__(self):\n",
        "    super(Encoder, self).__init__()\n",
        "\n",
        "    self.embedding_layer = nn.Embedding(vocab_size, embedding_size, padding_idx=pad_index)\n",
        "\n",
        "    self.bigru = nn.GRU(embedding_size, hidden_size, n_layer_en, bidirectional=True, batch_first=True, dropout=drop_out)\n",
        "    \n",
        "    self.linear_e = nn.Linear(2*hidden_size, 2*hidden_size, bias=False)\n",
        "    \n",
        "  def forward(self, question):\n",
        "    question_embedded = self.embedding_layer(question.unsqueeze(0))\n",
        "\n",
        "    encoder_out, hidden = self.bigru(question_embedded)\n",
        "    question_fwd = hidden[0:hidden.size(0):2]\n",
        "    question_bwd = hidden[1:hidden.size(0):2]\n",
        "    question_encoded = torch.cat([question_fwd, question_bwd], dim=2)\n",
        "\n",
        "    question_encoded = self.linear_e(question_encoded)\n",
        "    question_hidden = torch.stack([question_encoded[0, 0, :hidden_size], question_encoded[0, 0, hidden_size:]]).unsqueeze(1)\n",
        "\n",
        "    return encoder_out, question_hidden, question_encoded\n",
        "\n",
        "encoder = Encoder()\n",
        "encoder = encoder.to(device)"
      ],
      "execution_count": null,
      "outputs": []
    },
    {
      "cell_type": "code",
      "metadata": {
        "id": "XZH1gs7kJs0K",
        "outputId": "a1a03713-3abd-4538-b0a9-9a87b8d2333a",
        "colab": {
          "base_uri": "https://localhost:8080/",
          "height": 34
        }
      },
      "source": [
        "question, answer = set_input_data(0)\n",
        "encoder_out, question_hidden, question_encoded = encoder(question)\n",
        "print(encoder_out.size(), question_hidden.size(), question_encoded.size())"
      ],
      "execution_count": null,
      "outputs": [
        {
          "output_type": "stream",
          "text": [
            "torch.Size([1, 23, 512]) torch.Size([2, 1, 256]) torch.Size([1, 1, 512])\n"
          ],
          "name": "stdout"
        }
      ]
    },
    {
      "cell_type": "code",
      "metadata": {
        "id": "ySS2dsvHb0sY",
        "outputId": "53887161-4fc3-41bd-f903-4c5aa1067ebd",
        "colab": {
          "base_uri": "https://localhost:8080/",
          "height": 51
        }
      },
      "source": [
        "v = torch.rand(1, 1, 10)\n",
        "mask = torch.tensor([1, 1, 1, 0, 0, 0, 0, 0, 0, 0]).unsqueeze(0).unsqueeze(0)\n",
        "v.data.masked_fill_(\n",
        "                mask == 0, -float('Inf')\n",
        "            )\n",
        "v = F.softmax(v, dim=-1)\n",
        "v"
      ],
      "execution_count": null,
      "outputs": [
        {
          "output_type": "execute_result",
          "data": {
            "text/plain": [
              "tensor([[[0.2687, 0.3518, 0.3795, 0.0000, 0.0000, 0.0000, 0.0000, 0.0000,\n",
              "          0.0000, 0.0000]]])"
            ]
          },
          "metadata": {
            "tags": []
          },
          "execution_count": 20
        }
      ]
    },
    {
      "cell_type": "code",
      "metadata": {
        "id": "aaqJif_jcGp4",
        "outputId": "d47d7c09-a2d7-432c-a548-0f2db21daace",
        "colab": {
          "base_uri": "https://localhost:8080/",
          "height": 68
        }
      },
      "source": [
        "question"
      ],
      "execution_count": null,
      "outputs": [
        {
          "output_type": "execute_result",
          "data": {
            "text/plain": [
              "tensor([   1,  249,  584, 2493, 2061,  970, 2629,    2,    0,    0,    0,    0,\n",
              "           0,    0,    0,    0,    0,    0,    0,    0,    0,    0,    0],\n",
              "       device='cuda:0')"
            ]
          },
          "metadata": {
            "tags": []
          },
          "execution_count": 21
        }
      ]
    },
    {
      "cell_type": "code",
      "metadata": {
        "id": "_plt_0VMcgVR",
        "outputId": "deb4f8bf-d3f8-4486-a288-8685231c328c",
        "colab": {
          "base_uri": "https://localhost:8080/",
          "height": 85
        }
      },
      "source": [
        "question.unsqueeze(0).unsqueeze(0).size()\n",
        "v = torch.rand(1, 1, input_size).to(device)\n",
        "v.data.masked_fill_(\n",
        "                question == 0, -float('Inf')\n",
        "            )\n",
        "v = F.softmax(v, dim=-1)\n",
        "v"
      ],
      "execution_count": null,
      "outputs": [
        {
          "output_type": "execute_result",
          "data": {
            "text/plain": [
              "tensor([[[0.0958, 0.1587, 0.0834, 0.1118, 0.1006, 0.1664, 0.1898, 0.0935,\n",
              "          0.0000, 0.0000, 0.0000, 0.0000, 0.0000, 0.0000, 0.0000, 0.0000,\n",
              "          0.0000, 0.0000, 0.0000, 0.0000, 0.0000, 0.0000, 0.0000]]],\n",
              "       device='cuda:0')"
            ]
          },
          "metadata": {
            "tags": []
          },
          "execution_count": 22
        }
      ]
    },
    {
      "cell_type": "code",
      "metadata": {
        "id": "m6qNbQDLdifD",
        "outputId": "119041bc-029d-461d-a04b-a68857e0b234",
        "colab": {
          "base_uri": "https://localhost:8080/",
          "height": 51
        }
      },
      "source": [
        "s = encoder_out\n",
        "a = torch.rand(1, 1, input_size).to(device)\n",
        "print(s.size(), a.size())\n",
        "c = torch.bmm(a, s)\n",
        "print(c.size())"
      ],
      "execution_count": null,
      "outputs": [
        {
          "output_type": "stream",
          "text": [
            "torch.Size([1, 23, 512]) torch.Size([1, 1, 23])\n",
            "torch.Size([1, 1, 512])\n"
          ],
          "name": "stdout"
        }
      ]
    },
    {
      "cell_type": "code",
      "metadata": {
        "id": "OVKGspvOZsEV"
      },
      "source": [
        "#Attention\n",
        "n_layer_de = 2\n",
        "class Attention(nn.Module):\n",
        "  def __init__(self):\n",
        "    super(Attention, self).__init__()\n",
        "\n",
        "    self.linearV = nn.Linear(hidden_size, 1, bias=False)\n",
        "    self.linearS = nn.Linear(2*hidden_size, hidden_size)\n",
        "    self.linearH = nn.Linear(n_layer_de*hidden_size, hidden_size)\n",
        "    #self.cover_layer = nn.Linear(input_size, hidden_size, bias=False)\n",
        "    \n",
        "  def forward(self, s, h, mask):\n",
        "    S = self.linearS(s)\n",
        "    H = self.linearH(h)\n",
        "    #C = self.cover_layer(cover)\n",
        "    v = torch.tanh(self.linearV(S + H)).squeeze(-1).unsqueeze(0)\n",
        "    \n",
        "    if mask is not None:\n",
        "      mask = mask.unsqueeze(0).unsqueeze(0)\n",
        "      v.data.masked_fill_(\n",
        "                mask == 0, -6.0\n",
        "            )\n",
        "    a = F.softmax(v, dim=-1)\n",
        "    context = torch.bmm(a, s)\n",
        "    \n",
        "\n",
        "    return a, context\n",
        "\n",
        "attention = Attention()\n",
        "attention = attention.to(device)"
      ],
      "execution_count": null,
      "outputs": []
    },
    {
      "cell_type": "code",
      "metadata": {
        "id": "rQBQ8L38fXdf",
        "outputId": "1096cbd3-ebe2-4be3-fd43-9cf1a771ff77",
        "colab": {
          "base_uri": "https://localhost:8080/",
          "height": 102
        }
      },
      "source": [
        "#cover = torch.zeros(1, 1, input_size).to(device)\n",
        "s = encoder_out\n",
        "h = torch.rand(1, 1, 2*hidden_size).to(device)\n",
        "mask = question\n",
        "a, context = attention(s, h, mask)\n",
        "print(a.size(), context.size())\n",
        "print(a)"
      ],
      "execution_count": null,
      "outputs": [
        {
          "output_type": "stream",
          "text": [
            "torch.Size([1, 1, 23]) torch.Size([1, 1, 512])\n",
            "tensor([[[0.1236, 0.1255, 0.1303, 0.1163, 0.1211, 0.1261, 0.1238, 0.1289,\n",
            "          0.0003, 0.0003, 0.0003, 0.0003, 0.0003, 0.0003, 0.0003, 0.0003,\n",
            "          0.0003, 0.0003, 0.0003, 0.0003, 0.0003, 0.0003, 0.0003]]],\n",
            "       device='cuda:0', grad_fn=<SoftmaxBackward>)\n"
          ],
          "name": "stdout"
        }
      ]
    },
    {
      "cell_type": "code",
      "metadata": {
        "id": "0E6wLXchKImN"
      },
      "source": [
        "#Decoder\n",
        "n_layer_de = 2\n",
        "eps = 1e-40\n",
        "class Decoder(nn.Module):\n",
        "  def __init__(self):\n",
        "    super(Decoder, self).__init__()\n",
        "\n",
        "    self.embedding_layer = nn.Embedding(vocab_size, embedding_size, padding_idx=pad_index)\n",
        "\n",
        "    self.gru = nn.GRU(embedding_size, hidden_size, n_layer_de, bidirectional=False, batch_first=True, dropout=drop_out)\n",
        "    self.attention = Attention()\n",
        "    self.linear_d = nn.Linear(3*hidden_size, hidden_size)\n",
        "    self.vocab_linear = nn.Linear(hidden_size, vocab_size)\n",
        "    \n",
        "  def forward(self, encoder_out, question_encoded, decoder_out, decoder_hidden, question, step):\n",
        "\n",
        "    input_emb = self.embedding_layer(decoder_out)\n",
        "\n",
        "    gru_out, gru_hidden = self.gru(input_emb, decoder_hidden)\n",
        "\n",
        "    h = torch.cat([gru_hidden[0], gru_hidden[1]], dim=-1).unsqueeze(0)\n",
        "\n",
        "    a, context = attention(encoder_out, h, question)\n",
        "    context_out = torch.cat([gru_out, context], dim=-1)\n",
        "\n",
        "    decoder_out = F.relu(self.linear_d(context_out))\n",
        "    decoder_out = F.log_softmax(self.vocab_linear(decoder_out)+eps, dim=-1)    \n",
        "    return gru_hidden, decoder_out, a\n",
        "\n",
        "decoder = Decoder()\n",
        "decoder = decoder.to(device)"
      ],
      "execution_count": null,
      "outputs": []
    },
    {
      "cell_type": "code",
      "metadata": {
        "id": "IXUJ5NIAOrRL",
        "outputId": "ec124b7d-72ea-434d-ef45-039ee8889cc5",
        "colab": {
          "base_uri": "https://localhost:8080/",
          "height": 51
        }
      },
      "source": [
        "decoder_out = torch.LongTensor([sos_index]).to(device).unsqueeze(0)\n",
        "print(decoder_out.size())\n",
        "decoder_hidden = question_hidden\n",
        "decoder_hidden, decoder_out, a = decoder(encoder_out, question_encoded, decoder_out, decoder_hidden, question, 0)\n",
        "print(decoder_hidden.size(), decoder_out.size())\n",
        "decoder_out = decoder_out.argmax(-1)\n",
        "decoder_hidden, decoder_out, a = decoder(encoder_out, question_encoded, decoder_out, decoder_hidden, question, 0)"
      ],
      "execution_count": null,
      "outputs": [
        {
          "output_type": "stream",
          "text": [
            "torch.Size([1, 1])\n",
            "torch.Size([2, 1, 256]) torch.Size([1, 1, 2804])\n"
          ],
          "name": "stdout"
        }
      ]
    },
    {
      "cell_type": "code",
      "metadata": {
        "id": "NHhNtRONP9Fy"
      },
      "source": [
        "criterion = nn.NLLLoss(reduction=\"sum\", ignore_index=pad_index)\n",
        "import torch.optim as optim\n",
        "lr = 0.00001\n",
        "encoder_optimizer = optim.Adam(encoder.parameters(), lr=lr, weight_decay=1e-6)\n",
        "decoder_optimizer = optim.Adam(decoder.parameters(), lr=lr, weight_decay=1e-6)"
      ],
      "execution_count": null,
      "outputs": []
    },
    {
      "cell_type": "code",
      "metadata": {
        "id": "GvTUe8kcQpna"
      },
      "source": [
        "def train(data_num, teacher_forcing_p):\n",
        "  encoder.train()\n",
        "  decoder.train()\n",
        "  encoder_optimizer.zero_grad()\n",
        "  decoder_optimizer.zero_grad()\n",
        "\n",
        "  question, answer = set_input_data(data_num)\n",
        "\n",
        "  rand = np.random.rand()\n",
        "  if teacher_forcing_p > rand:\n",
        "      teacher_forcing = True\n",
        "  else:\n",
        "      teacher_forcing = False\n",
        "\n",
        "  length = answer_max + 2\n",
        "\n",
        "  #encoder\n",
        "  encoder_out, question_hidden, question_encoded = encoder(question)\n",
        "\n",
        "  decoder_out = torch.LongTensor([sos_index]).to(device).unsqueeze(0)\n",
        "  decoder_hidden = question_hidden\n",
        "  \n",
        "  \n",
        "  a_index = []\n",
        "  log_logit_index = []\n",
        "  for step in range(length):\n",
        "    #decoder\n",
        "\n",
        "    decoder_hidden, decoder_out, a = decoder(encoder_out, question_encoded, decoder_out, decoder_hidden, question, step)\n",
        "    log_logit_index.append(decoder_out.squeeze(0))\n",
        "    if teacher_forcing:\n",
        "      decoder_out = answer[step].unsqueeze(0).unsqueeze(0)\n",
        "    else:\n",
        "      decoder_out = decoder_out.argmax(-1)\n",
        "    \n",
        "    a_index.append(a)\n",
        "\n",
        "\n",
        "  a_index = torch.cat(a_index, dim=0)\n",
        "\n",
        "  log_logit_index = torch.cat(log_logit_index, dim=0)\n",
        "  loss = criterion(log_logit_index, answer)\n",
        "\n",
        "  loss.backward()\n",
        "  encoder_optimizer.step()\n",
        "  decoder_optimizer.step()\n",
        "\n",
        "  return loss.item()\n",
        "\n",
        "def test(data_num, teacher_forcing_p):\n",
        "  encoder.eval()\n",
        "  decoder.eval()\n",
        "\n",
        "  question, answer = set_input_data(data_num)\n",
        "\n",
        "  rand = np.random.rand()\n",
        "  if teacher_forcing_p > rand:\n",
        "      teacher_forcing = True\n",
        "  else:\n",
        "      teacher_forcing = False\n",
        "\n",
        "  length = answer_max + 2\n",
        "\n",
        "  #encoder\n",
        "  encoder_out, question_hidden, question_encoded = encoder(question)\n",
        "\n",
        "  decoder_out = torch.LongTensor([sos_index]).to(device).unsqueeze(0)\n",
        "  decoder_hidden = question_hidden\n",
        "\n",
        "\n",
        "  a_index = []\n",
        "\n",
        "  log_logit_index = []\n",
        "  word_index = []\n",
        "  for step in range(length):\n",
        "    #decoder\n",
        "\n",
        "    decoder_hidden, decoder_out, a = decoder(encoder_out, question_encoded, decoder_out, decoder_hidden, question, step)\n",
        "    log_logit_index.append(decoder_out.squeeze(0))\n",
        "    if teacher_forcing:\n",
        "      decoder_out = answer[step].unsqueeze(0).unsqueeze(0)\n",
        "    else:\n",
        "      decoder_out = decoder_out.argmax(-1)\n",
        "    word_index.append(decoder_out)\n",
        "\n",
        "\n",
        "    a_index.append(a)\n",
        "\n",
        "  word_index = torch.cat(word_index, dim=-1).squeeze(0)\n",
        "\n",
        "  a_index = torch.cat(a_index, dim=0)\n",
        "\n",
        "  log_logit_index = torch.cat(log_logit_index, dim=0)\n",
        "  loss = criterion(log_logit_index, answer)\n",
        "\n",
        "  return loss.item(), word_index, a_index"
      ],
      "execution_count": null,
      "outputs": []
    },
    {
      "cell_type": "code",
      "metadata": {
        "id": "zLlVjH3VT6Xr",
        "outputId": "8172bf44-2de6-44a7-fa4a-c722d1593883",
        "colab": {
          "base_uri": "https://localhost:8080/",
          "height": 1000
        }
      },
      "source": [
        "dataset_num = len(dataset)\n",
        "train_loss_history = []\n",
        "test_loss_history = []\n",
        "batch_size = 2000\n",
        "for i in range(100):\n",
        "  loss = 0\n",
        "  loss_test = 0\n",
        "  for j in range(batch_size):\n",
        "    a = np.random.choice(list(range(0, 2500)))\n",
        "    b = np.random.choice(list(range(2500, dataset_num)))\n",
        "    loss_i = train(a, 0.9)\n",
        "    loss_test_i, word_index, a_index = test(b, 0)\n",
        "\n",
        "    loss += loss_i / batch_size\n",
        "    loss_test += loss_test_i / batch_size\n",
        "  print(\"epoch: \",i)\n",
        "  print(\"loss: \",loss)\n",
        "  print(\"loss_test: \",loss_test)\n",
        "  print(\"question: \", pre_questions1[b])\n",
        "  print(\"gold answer: \", pre_answers1[b])\n",
        "  text = decode_ids(word_index)\n",
        "  print(\"generated text: \", text)\n",
        "  print(' ')\n",
        "  \n",
        "  train_loss_history.append(loss)\n",
        "\n",
        "  test_loss_history.append(loss_test)\n",
        "\n",
        "\n",
        "import matplotlib.pyplot as plt\n",
        "\n",
        "\n",
        "plt.plot(train_loss_history, marker=' ', label='train_loss')\n",
        "plt.plot(test_loss_history, marker=' ', label='test_loss')\n",
        "plt.grid()\n",
        "plt.xlabel('epochs')\n",
        "plt.ylabel('loss')\n",
        "plt.legend()\n",
        "plt.show()"
      ],
      "execution_count": null,
      "outputs": [
        {
          "output_type": "stream",
          "text": [
            "epoch:  0\n",
            "loss:  54.713768797397854\n",
            "loss_test:  59.32749838399879\n",
            "question:  then i add butter, salt, and pepper.\n",
            "gold answer:  can i have all those cans of tomato sauce you bought for your pasta?\n",
            "generated text:  i i . . .\n",
            " \n",
            "epoch:  1\n",
            "loss:  44.52604366207121\n",
            "loss_test:  50.970430305957855\n",
            "question:  what else do we get from cows?\n",
            "gold answer:  we get hamburgers and steak.\n",
            "generated text:  i i . .\n",
            " \n",
            "epoch:  2\n",
            "loss:  43.63326515007017\n",
            "loss_test:  51.20973643541339\n",
            "question:  yes. i've never been there.\n",
            "gold answer:  i was there when i was a kid.\n",
            "generated text:  i you .\n",
            " \n",
            "epoch:  3\n",
            "loss:  41.46483897447587\n",
            "loss_test:  52.805172246933004\n",
            "question:  what are you standing on?\n",
            "gold answer:  a couple of dictionaries and some textbooks.\n",
            "generated text:  i you . . . .\n",
            " \n",
            "epoch:  4\n",
            "loss:  41.43641167020802\n",
            "loss_test:  53.685480773925796\n",
            "question:  when do you have to be at the airport?\n",
            "gold answer:  i have to be there two hours early.\n",
            "generated text:  i you . . . .\n",
            " \n",
            "epoch:  5\n",
            "loss:  40.512590508460946\n",
            "loss_test:  54.06604445123668\n",
            "question:  that sounds like a dream job.\n",
            "gold answer:  it was, until one day my manager caught me.\n",
            "generated text:  i you . . .\n",
            " \n",
            "epoch:  6\n",
            "loss:  40.75145029497147\n",
            "loss_test:  54.535168629169526\n",
            "question:  i went to the beach every day.\n",
            "gold answer:  how was the weather?\n",
            "generated text:  i you you . .\n",
            " \n",
            "epoch:  7\n",
            "loss:  41.42892655229563\n",
            "loss_test:  54.47750887489327\n",
            "question:  yes. the ones that will improve our schools, roads, and hospitals.\n",
            "gold answer:  you mean the measures that will raise our taxes.\n",
            "generated text:  i you you . .\n",
            " \n",
            "epoch:  8\n",
            "loss:  40.83396868515009\n",
            "loss_test:  55.270752367973394\n",
            "question:  she got an \"everything\" job!\n",
            "gold answer:  what do you mean?\n",
            "generated text:  i you . . .\n",
            " \n",
            "epoch:  9\n",
            "loss:  40.43106158637999\n",
            "loss_test:  55.23698061037059\n",
            "question:  of course you are. you ate everything on the table.\n",
            "gold answer:  i don't like to eat leftovers.\n",
            "generated text:  i you . .\n",
            " \n",
            "epoch:  10\n",
            "loss:  40.33191053009031\n",
            "loss_test:  55.12427209424981\n",
            "question:  we'd better get ready to go.\n",
            "gold answer:  it's an upstairs unit.\n",
            "generated text:  i you . .\n",
            " \n",
            "epoch:  11\n",
            "loss:  39.456255346775\n",
            "loss_test:  56.814300639152556\n",
            "question:  what's the matter?\n",
            "gold answer:  maybe i left the burner on.\n",
            "generated text:  i . . .\n",
            " \n",
            "epoch:  12\n",
            "loss:  39.908661979675315\n",
            "loss_test:  56.45702150011063\n",
            "question:  and you get a lot of exercise every day.\n",
            "gold answer:  that's the truth.\n",
            "generated text:  i you . .\n",
            " \n",
            "epoch:  13\n",
            "loss:  40.436546425342556\n",
            "loss_test:  56.977898441314615\n",
            "question:  we won't have any money for other things?\n",
            "gold answer:  no, we won't have money for gas or food.\n",
            "generated text:  i . . .\n",
            " \n",
            "epoch:  14\n",
            "loss:  39.82114177417761\n",
            "loss_test:  56.73367357397079\n",
            "question:  but they can just knock on the door.\n",
            "gold answer:  actually, i want him to look at our carpet, too.\n",
            "generated text:  i . .\n",
            " \n",
            "epoch:  15\n",
            "loss:  39.214878551959885\n",
            "loss_test:  56.79155851411827\n",
            "question:  did you read this article?\n",
            "gold answer:  what article?\n",
            "generated text:  i . i . . .\n",
            " \n",
            "epoch:  16\n",
            "loss:  39.54390145444871\n",
            "loss_test:  55.783426467895374\n",
            "question:  the worst in the whole world.\n",
            "gold answer:  the walls were so thin.\n",
            "generated text:  i . i .\n",
            " \n",
            "epoch:  17\n",
            "loss:  40.00248201274875\n",
            "loss_test:  56.377563394069554\n",
            "question:  it's too dangerous for kids and pets.\n",
            "gold answer:  people need to cover their trash cans.\n",
            "generated text:  i . i .\n",
            " \n",
            "epoch:  18\n",
            "loss:  39.282194998741105\n",
            "loss_test:  56.43684846878045\n",
            "question:  did you watch that golf tournament?\n",
            "gold answer:  the one that tiger won?\n",
            "generated text:  i . i . . .\n",
            " \n",
            "epoch:  19\n",
            "loss:  39.09145121097562\n",
            "loss_test:  56.62283235836024\n",
            "question:  people are friendly.\n",
            "gold answer:  yes, they are.\n",
            "generated text:  i don't . .\n",
            " \n",
            "epoch:  20\n",
            "loss:  38.78592734670642\n",
            "loss_test:  56.624135819911864\n",
            "question:  they say he has started fifteen big fires.\n",
            "gold answer:  he's been in jail three times already.\n",
            "generated text:  i think . .\n",
            " \n",
            "epoch:  21\n",
            "loss:  39.105101070404075\n",
            "loss_test:  56.71475890445711\n",
            "question:  like what?\n",
            "gold answer:  i think he closed the bowling alley in the white house.\n",
            "generated text:  i . i . . .\n",
            " \n",
            "epoch:  22\n",
            "loss:  37.90891425704959\n",
            "loss_test:  55.70598164129245\n",
            "question:  like what?\n",
            "gold answer:  i think he closed the bowling alley in the white house.\n",
            "generated text:  i don't . .\n",
            " \n",
            "epoch:  23\n",
            "loss:  38.565564296245626\n",
            "loss_test:  55.75479814004902\n",
            "question:  where's the pencil sharpener?\n",
            "gold answer:  which one?\n",
            "generated text:  i don't . . . .\n",
            " \n",
            "epoch:  24\n",
            "loss:  38.66782000350944\n",
            "loss_test:  56.998055428505005\n",
            "question:  why's that?\n",
            "gold answer:  a hospital is the most dangerous place in the world.\n",
            "generated text:  i don't . . .\n",
            " \n",
            "epoch:  25\n",
            "loss:  37.49840819549562\n",
            "loss_test:  55.35326631832119\n",
            "question:  we'd better get ready to go.\n",
            "gold answer:  it's an upstairs unit.\n",
            "generated text:  i don't . to .\n",
            " \n",
            "epoch:  26\n",
            "loss:  38.177904075861065\n",
            "loss_test:  56.896477909088034\n",
            "question:  did you go swimming?\n",
            "gold answer:  i went to the beach every day.\n",
            "generated text:  i think . i . . .\n",
            " \n",
            "epoch:  27\n",
            "loss:  37.8772006812095\n",
            "loss_test:  57.550035442352325\n",
            "question:  i thought you had a job.\n",
            "gold answer:  i did.\n",
            "generated text:  i don't . to .\n",
            " \n",
            "epoch:  28\n",
            "loss:  38.0443917479516\n",
            "loss_test:  56.316190769195565\n",
            "question:  what's wrong with it?\n",
            "gold answer:  it aches most of the time.\n",
            "generated text:  i think . . .\n",
            " \n",
            "epoch:  29\n",
            "loss:  37.68886340379709\n",
            "loss_test:  57.366287625789745\n",
            "question:  who invented flossing?\n",
            "gold answer:  a dentist, i'm sure.\n",
            "generated text:  i think . . . . . .\n",
            " \n",
            "epoch:  30\n",
            "loss:  37.77685226345071\n",
            "loss_test:  56.91846361827848\n",
            "question:  i'm gaining weight.\n",
            "gold answer:  how much have you gained?\n",
            "generated text:  i think you .\n",
            " \n",
            "epoch:  31\n",
            "loss:  37.173760277748165\n",
            "loss_test:  57.14917338800429\n",
            "question:  i hate flying.\n",
            "gold answer:  so do i.\n",
            "generated text:  i think you .\n",
            " \n",
            "epoch:  32\n",
            "loss:  37.00785685658448\n",
            "loss_test:  58.0116372113229\n",
            "question:  when you finish, all you do is start another job!\n",
            "gold answer:  yes, that's right. it does get boring.\n",
            "generated text:  i think i think . . .\n",
            " \n",
            "epoch:  33\n",
            "loss:  37.09948943853389\n",
            "loss_test:  55.821443658828755\n",
            "question:  not that i've noticed.\n",
            "gold answer:  well, maybe it's from the pollution in the air.\n",
            "generated text:  i think to . .\n",
            " \n",
            "epoch:  34\n",
            "loss:  36.927846851825684\n",
            "loss_test:  58.242582077980025\n",
            "question:  i want sheets without stains on them.\n",
            "gold answer:  from now on, let's bring our own sheets.\n",
            "generated text:  i don't to . .\n",
            " \n",
            "epoch:  35\n",
            "loss:  36.33082228231429\n",
            "loss_test:  56.931767227649644\n",
            "question:  do you like this house?\n",
            "gold answer:  yes, it's beautiful.\n",
            "generated text:  i think to . . .\n",
            " \n",
            "epoch:  36\n",
            "loss:  36.82897049999237\n",
            "loss_test:  57.478341167449884\n",
            "question:  i'm sleepy.\n",
            "gold answer:  so am i.\n",
            "generated text:  i don't to to .\n",
            " \n",
            "epoch:  37\n",
            "loss:  37.150013609886166\n",
            "loss_test:  57.06701400136943\n",
            "question:  our tv remote is filthy.\n",
            "gold answer:  yes, it's covered with crud.\n",
            "generated text:  i don't to to .\n",
            " \n",
            "epoch:  38\n",
            "loss:  37.109647659778574\n",
            "loss_test:  56.61979227352133\n",
            "question:  it's too dangerous for kids and pets.\n",
            "gold answer:  people need to cover their trash cans.\n",
            "generated text:  i don't to . .\n",
            " \n",
            "epoch:  39\n",
            "loss:  36.24742418313023\n",
            "loss_test:  57.81139016008388\n",
            "question:  why did you do that?\n",
            "gold answer:  i mixed them together.\n",
            "generated text:  i don't to . . . . .\n",
            " \n",
            "epoch:  40\n",
            "loss:  36.87047595310209\n",
            "loss_test:  57.421491067409534\n",
            "question:  it's about crime in los angeles.\n",
            "gold answer:  what does it say?\n",
            "generated text:  i don't to . .\n",
            " \n",
            "epoch:  41\n",
            "loss:  36.10715732479095\n",
            "loss_test:  57.29976497888571\n",
            "question:  what do you mean?\n",
            "gold answer:  our monthly payments will be too high.\n",
            "generated text:  i don't to . . . . . .\n",
            " \n",
            "epoch:  42\n",
            "loss:  36.59754954838759\n",
            "loss_test:  56.375979125976606\n",
            "question:  yes. i have to breathe through my mouth.\n",
            "gold answer:  have you tried nose drops?\n",
            "generated text:  i don't to to . .\n",
            " \n",
            "epoch:  43\n",
            "loss:  35.62315265703199\n",
            "loss_test:  57.804412989139465\n",
            "question:  i pour lots of french dressing on top.\n",
            "gold answer:  me too. french dressing is so delicious! who cares about calories?\n",
            "generated text:  i don't you to to ? .\n",
            " \n",
            "epoch:  44\n",
            "loss:  35.399274827718756\n",
            "loss_test:  57.89733726978306\n",
            "question:  my waist is bigger than it was.\n",
            "gold answer:  no problem. these pants have an elastic waistband.\n",
            "generated text:  i don't to . .\n",
            " \n",
            "epoch:  45\n",
            "loss:  35.01326971840852\n",
            "loss_test:  57.97734431171415\n",
            "question:  so what's the problem?\n",
            "gold answer:  i used all my savings on this one company.\n",
            "generated text:  i don't to . .\n",
            " \n",
            "epoch:  46\n",
            "loss:  35.646141184091626\n",
            "loss_test:  58.34730944347379\n",
            "question:  i eat two apples, one banana, and one orange every day.\n",
            "gold answer:  well, there's nothing wrong with that.\n",
            "generated text:  i don't you to .\n",
            " \n",
            "epoch:  47\n",
            "loss:  35.74181432366366\n",
            "loss_test:  57.24712531375893\n",
            "question:  i think they're in the medicine cabinet.\n",
            "gold answer:  it's on the tip of my finger.\n",
            "generated text:  i don't you to .\n",
            " \n",
            "epoch:  48\n",
            "loss:  35.009596568346005\n",
            "loss_test:  58.37478305673608\n",
            "question:  three different people will give you three different stories.\n",
            "gold answer:  and the government will give you a fourth story.\n",
            "generated text:  i don't to . .\n",
            " \n",
            "epoch:  49\n",
            "loss:  35.45146450233461\n",
            "loss_test:  57.6389485583305\n",
            "question:  oh, it did. there were about 300 people there to honor us.\n",
            "gold answer:  well, you all deserve it. you helped save our country.\n",
            "generated text:  i don't to . .\n",
            " \n",
            "epoch:  50\n",
            "loss:  34.992484843015646\n",
            "loss_test:  57.62351821947084\n",
            "question:  put your seatbelt on.\n",
            "gold answer:  why?\n",
            "generated text:  i don't to . .\n",
            " \n",
            "epoch:  51\n",
            "loss:  34.84547007942192\n",
            "loss_test:  58.85776252365109\n",
            "question:  i think we are!\n",
            "gold answer:  well, that's okay, as long as it helps him relax and think more clearly.\n",
            "generated text:  i don't to . .\n",
            " \n",
            "epoch:  52\n",
            "loss:  34.13928466248514\n",
            "loss_test:  57.47156945228569\n",
            "question:  i got laid off.\n",
            "gold answer:  that's terrible! when did it happen?\n",
            "generated text:  i don't you .\n",
            " \n",
            "epoch:  53\n",
            "loss:  34.46979257106791\n",
            "loss_test:  59.037805523395434\n",
            "question:  but there are a lot of police.\n",
            "gold answer:  there's only one police officer per 100 criminals.\n",
            "generated text:  i don't a a . . .\n",
            " \n",
            "epoch:  54\n",
            "loss:  33.99298245692257\n",
            "loss_test:  58.01599804878242\n",
            "question:  did you look in the desk drawer?\n",
            "gold answer:  yes, i looked there, too.\n",
            "generated text:  i don't to . . . . . . . . .\n",
            " \n",
            "epoch:  55\n",
            "loss:  34.06286078619956\n",
            "loss_test:  57.133629861354926\n",
            "question:  get one with the rubber suction cups on the bottom.\n",
            "gold answer:  yes. that way it will stay where i put it.\n",
            "generated text:  i don't a the the . . . . .\n",
            " \n",
            "epoch:  56\n",
            "loss:  34.51110581278802\n",
            "loss_test:  58.02903458166123\n",
            "question:  i know that.\n",
            "gold answer:  so why are you arguing with me? don't lie in the sun too long!\n",
            "generated text:  i don't you to .\n",
            " \n",
            "epoch:  57\n",
            "loss:  34.148425081253045\n",
            "loss_test:  59.05712415361399\n",
            "question:  well, the democratic party says it was an honest election.\n",
            "gold answer:  of course they say thattheir man won!\n",
            "generated text:  i don't know . .\n",
            " \n",
            "epoch:  58\n",
            "loss:  34.56077153801923\n",
            "loss_test:  58.135925667285925\n",
            "question:  but they can just knock on the door.\n",
            "gold answer:  actually, i want him to look at our carpet, too.\n",
            "generated text:  i don't a a . . . . .\n",
            " \n",
            "epoch:  59\n",
            "loss:  34.20249742650982\n",
            "loss_test:  57.907446373462626\n",
            "question:  did he speak to every family that lost a soldier?\n",
            "gold answer:  no, he didn't have time to do that.\n",
            "generated text:  i don't to . . . .\n",
            " \n",
            "epoch:  60\n",
            "loss:  33.947033968210185\n",
            "loss_test:  57.590302727222465\n",
            "question:  i hate flying.\n",
            "gold answer:  so do i.\n",
            "generated text:  i don't you .\n",
            " \n",
            "epoch:  61\n",
            "loss:  33.53911049938195\n",
            "loss_test:  58.60009519052495\n",
            "question:  before you go to that interview, check yourself.\n",
            "gold answer:  what's to check?\n",
            "generated text:  i think i think to go to the lot .\n",
            " \n",
            "epoch:  62\n",
            "loss:  33.35809097647667\n",
            "loss_test:  58.46639689922333\n",
            "question:  he's been a chain smoker for 30 years.\n",
            "gold answer:  that's unbelievable. can he still breathe?\n",
            "generated text:  i don't a a . .\n",
            " \n",
            "epoch:  63\n",
            "loss:  33.02399349427222\n",
            "loss_test:  59.42302356147769\n",
            "question:  yes, if they do it quickly.\n",
            "gold answer:  where do the students go?\n",
            "generated text:  i don't a a . .\n",
            " \n",
            "epoch:  64\n",
            "loss:  33.806084820985824\n",
            "loss_test:  59.41606292581566\n",
            "question:  i guess they haven't read this article.\n",
            "gold answer:  no one believes that the crime rate is going down.\n",
            "generated text:  i don't you .\n",
            " \n",
            "epoch:  65\n",
            "loss:  33.174519472837446\n",
            "loss_test:  58.75872011947643\n",
            "question:  what's wrong with them so soon?\n",
            "gold answer:  the pants are fine, but the pocket has a huge hole in it.\n",
            "generated text:  i don't to . . .\n",
            " \n",
            "epoch:  66\n",
            "loss:  32.758889684200255\n",
            "loss_test:  58.39145938491828\n",
            "question:  he will end the war.\n",
            "gold answer:  the next four years will be good years.\n",
            "generated text:  i don't a a . . .\n",
            " \n",
            "epoch:  67\n",
            "loss:  32.64120171284678\n",
            "loss_test:  59.577293008327544\n",
            "question:  i have no insurance.\n",
            "gold answer:  maybe a back rub would help.\n",
            "generated text:  i don't you . .\n",
            " \n",
            "epoch:  68\n",
            "loss:  33.2921730933189\n",
            "loss_test:  59.05765704965603\n",
            "question:  i enjoy selling. i was born to sell.\n",
            "gold answer:  okay, what do you want to sell?\n",
            "generated text:  i really you to the the .\n",
            " \n",
            "epoch:  69\n",
            "loss:  32.70072726345054\n",
            "loss_test:  58.4172007350922\n",
            "question:  but work goes on forever!\n",
            "gold answer:  we have to work for 30 years!\n",
            "generated text:  i don't a . . .\n",
            " \n",
            "epoch:  70\n",
            "loss:  32.719969510078485\n",
            "loss_test:  58.764301841259034\n",
            "question:  nothing seems to work.\n",
            "gold answer:  all it takes is will power, and you have it.\n",
            "generated text:  i don't you .\n",
            " \n",
            "epoch:  71\n",
            "loss:  32.48883393907545\n",
            "loss_test:  58.934054163456\n",
            "question:  yes, it's better to get there too early than too late.\n",
            "gold answer:  i agree.\n",
            "generated text:  i was to . .\n",
            " \n",
            "epoch:  72\n",
            "loss:  32.09798619651798\n",
            "loss_test:  59.1065498652459\n",
            "question:  are you sure?\n",
            "gold answer:  of course i'm sure.\n",
            "generated text:  i don't to . . .\n",
            " \n",
            "epoch:  73\n",
            "loss:  32.11534980797764\n",
            "loss_test:  59.332396454334216\n",
            "question:  don't pick your nose.\n",
            "gold answer:  i wasn't picking my nose.\n",
            "generated text:  i don't you .\n",
            " \n",
            "epoch:  74\n",
            "loss:  32.702410291671775\n",
            "loss_test:  60.2922003173828\n",
            "question:  i got laid off last week.\n",
            "gold answer:  just you?\n",
            "generated text:  i don't you . .\n",
            " \n",
            "epoch:  75\n",
            "loss:  32.469250808239025\n",
            "loss_test:  59.515665119648\n",
            "question:  he thinks i have too much stress.\n",
            "gold answer:  stress causes your stomachaches?\n",
            "generated text:  i don't know . .\n",
            " \n",
            "epoch:  76\n",
            "loss:  31.716019523620623\n",
            "loss_test:  59.99241471290592\n",
            "question:  he promised to hire 1,000 more police officers.\n",
            "gold answer:  how many did he hire?\n",
            "generated text:  i don't know .\n",
            " \n",
            "epoch:  77\n",
            "loss:  31.716356949567782\n",
            "loss_test:  59.293704597949905\n",
            "question:  everyone wants you to solve their problems.\n",
            "gold answer:  i have enough stress from trying to solve my own problems.\n",
            "generated text:  i think i think .\n",
            " \n",
            "epoch:  78\n",
            "loss:  32.359681049346925\n",
            "loss_test:  59.84687046337126\n",
            "question:  same as ever, by mail. all it costs me is a 42-cent stamp.\n",
            "gold answer:  i meant, are you going to vote for or against the new taxes?\n",
            "generated text:  i don't know . .\n",
            " \n",
            "epoch:  79\n",
            "loss:  31.932042578458734\n",
            "loss_test:  60.580945608139025\n",
            "question:  but big earthquakes happen only once in a while.\n",
            "gold answer:  once in a while is once too many.\n",
            "generated text:  i think it . . .\n",
            " \n",
            "epoch:  80\n",
            "loss:  31.84473749923708\n",
            "loss_test:  59.260397968292175\n",
            "question:  i'll have to try them sometime.\n",
            "gold answer:  they're best when they're hot.\n",
            "generated text:  i don't you . .\n",
            " \n",
            "epoch:  81\n",
            "loss:  31.407342918157546\n",
            "loss_test:  58.93695110416413\n",
            "question:  how many rich people do you know?\n",
            "gold answer:  none.\n",
            "generated text:  i don't to . . . .\n",
            " \n",
            "epoch:  82\n",
            "loss:  31.249532159090055\n",
            "loss_test:  60.95358645057681\n",
            "question:  my dad went to washington, d.c.\n",
            "gold answer:  why did he do that?\n",
            "generated text:  i hope you .\n",
            " \n",
            "epoch:  83\n",
            "loss:  31.19765339112281\n",
            "loss_test:  60.29316155910491\n",
            "question:  thank you.\n",
            "gold answer:  i hope they fit.\n",
            "generated text:  i don't . . .\n",
            " \n",
            "epoch:  84\n",
            "loss:  31.349519483804695\n",
            "loss_test:  60.24267544460303\n",
            "question:  i loved it!\n",
            "gold answer:  did you get free food?\n",
            "generated text:  i have to you .\n",
            " \n",
            "epoch:  85\n",
            "loss:  31.251687730789236\n",
            "loss_test:  60.665043391227776\n",
            "question:  yes, with the voter instructions.\n",
            "gold answer:  how are you going to vote?\n",
            "generated text:  i don't know . .\n",
            " \n",
            "epoch:  86\n",
            "loss:  31.198360586166384\n",
            "loss_test:  59.79992185449606\n",
            "question:  they both said i have to live with it.\n",
            "gold answer:  or you can stay off planes.\n",
            "generated text:  i think you . .\n",
            " \n",
            "epoch:  87\n",
            "loss:  30.3363415603638\n",
            "loss_test:  61.10017010831817\n",
            "question:  you might be right.\n",
            "gold answer:  do pimples run in your family?\n",
            "generated text:  i think i . . .\n",
            " \n",
            "epoch:  88\n",
            "loss:  30.313647213935898\n",
            "loss_test:  60.55011063098911\n",
            "question:  we want to make sure all the students are out of the building.\n",
            "gold answer:  if they are all outside, then what?\n",
            "generated text:  i would be .\n",
            " \n",
            "epoch:  89\n",
            "loss:  30.92733901596072\n",
            "loss_test:  62.208506669521356\n",
            "question:  i guess so.\n",
            "gold answer:  god bless modern medicine.\n",
            "generated text:  i don't you .\n",
            " \n",
            "epoch:  90\n",
            "loss:  29.830880486488347\n",
            "loss_test:  62.038522046089234\n",
            "question:  i didn't have to. it's been in business for 60 years.\n",
            "gold answer:  so what's the problem?\n",
            "generated text:  i hope you to be .\n",
            " \n",
            "epoch:  91\n",
            "loss:  30.08440543937682\n",
            "loss_test:  63.25809853887568\n",
            "question:  why?\n",
            "gold answer:  because you get to meet a lot of people.\n",
            "generated text:  i don't know .\n",
            " \n",
            "epoch:  92\n",
            "loss:  29.878484144687658\n",
            "loss_test:  62.31698001909248\n",
            "question:  maybe the room is nice, but not the bed.\n",
            "gold answer:  what's wrong with the bed?\n",
            "generated text:  i don't know . . . . .\n",
            " \n",
            "epoch:  93\n",
            "loss:  29.855866261243868\n",
            "loss_test:  62.246959075927734\n",
            "question:  the league suspended him for 50 games.\n",
            "gold answer:  that will cost him some money.\n",
            "generated text:  i don't know . . . .\n",
            " \n",
            "epoch:  94\n",
            "loss:  30.07169429612165\n",
            "loss_test:  61.05611022043225\n",
            "question:  what are you eating now?\n",
            "gold answer:  i switched from pasta to potatoes.\n",
            "generated text:  i don't want to .\n",
            " \n",
            "epoch:  95\n",
            "loss:  29.38351751112935\n",
            "loss_test:  63.53813193798058\n",
            "question:  can't they eat grass?\n",
            "gold answer:  do you think a bear is a cow?\n",
            "generated text:  i don't a . . .\n",
            " \n",
            "epoch:  96\n",
            "loss:  29.33334016108515\n",
            "loss_test:  62.98461648941044\n",
            "question:  that means it gets twice as much traffic.\n",
            "gold answer:  you're right.\n",
            "generated text:  i really be . . .\n",
            " \n",
            "epoch:  97\n",
            "loss:  29.310956618547376\n",
            "loss_test:  62.706197273254375\n",
            "question:  well, if you bring your receipt, maybe they'll give you $400.\n",
            "gold answer:  i'll keep my receipt and my gun.\n",
            "generated text:  i really want to go to be .\n",
            " \n",
            "epoch:  98\n",
            "loss:  28.760694715738303\n",
            "loss_test:  64.23058414030076\n",
            "question:  and it's just as easy to prepare.\n",
            "gold answer:  how do you prepare the potatoes?\n",
            "generated text:  i hope it .\n",
            " \n",
            "epoch:  99\n",
            "loss:  29.07450971555712\n",
            "loss_test:  65.4741208615304\n",
            "question:  then i add butter, salt, and pepper.\n",
            "gold answer:  can i have all those cans of tomato sauce you bought for your pasta?\n",
            "generated text:  i hope you .\n",
            " \n"
          ],
          "name": "stdout"
        },
        {
          "output_type": "display_data",
          "data": {
            "image/png": "[encoded data removed]",
            "text/plain": [
              "<Figure size 432x288 with 1 Axes>"
            ]
          },
          "metadata": {
            "tags": [],
            "needs_background": "light"
          }
        }
      ]
    },
    {
      "cell_type": "code",
      "metadata": {
        "id": "beOIVXVy3ap2"
      },
      "source": [
        "def call_test(data_num):\n",
        "  loss_test_i, word_index, a_index = test(data_num, 0)\n",
        "  text = decode_ids(word_index)\n",
        "  print(\"loss_test: \",loss_test)\n",
        "  print(\"question: \", pre_questions1[data_num])\n",
        "  print(\"gold answer: \", pre_answers1[data_num])\n",
        "  print(\"generated answer: \", text)"
      ],
      "execution_count": null,
      "outputs": []
    },
    {
      "cell_type": "code",
      "metadata": {
        "id": "DqAcLufE3ypU",
        "outputId": "57112bae-395e-4f33-8b5d-21a0b332c895",
        "colab": {
          "base_uri": "https://localhost:8080/",
          "height": 1000
        }
      },
      "source": [
        "for i in range(15):\n",
        "  ss = i\n",
        "  call_test(ss)\n",
        "  print(\"________\")"
      ],
      "execution_count": null,
      "outputs": [
        {
          "output_type": "stream",
          "text": [
            "loss_test:  65.4741208615304\n",
            "question:  hi, how are you doing?\n",
            "gold answer:  i'm fine. how about yourself?\n",
            "generated answer:  i don't know . .\n",
            "________\n",
            "loss_test:  65.4741208615304\n",
            "question:  i'm fine. how about yourself?\n",
            "gold answer:  i'm pretty good. thanks for asking.\n",
            "generated answer:  i don't want to go to go . .\n",
            "________\n",
            "loss_test:  65.4741208615304\n",
            "question:  i'm pretty good. thanks for asking.\n",
            "gold answer:  no problem. so how have you been?\n",
            "generated answer:  i don't want to\n",
            "________\n",
            "loss_test:  65.4741208615304\n",
            "question:  no problem. so how have you been?\n",
            "gold answer:  i've been great. what about you?\n",
            "generated answer:  i don't want to . . .\n",
            "________\n",
            "loss_test:  65.4741208615304\n",
            "question:  i've been great. what about you?\n",
            "gold answer:  i've been good. i'm in school right now.\n",
            "generated answer:  i don't want to . . .\n",
            "________\n",
            "loss_test:  65.4741208615304\n",
            "question:  i've been good. i'm in school right now.\n",
            "gold answer:  what school do you go to?\n",
            "generated answer:  i don't want to .\n",
            "________\n",
            "loss_test:  65.4741208615304\n",
            "question:  what school do you go to?\n",
            "gold answer:  i go to pcc.\n",
            "generated answer:  i don't want to .\n",
            "________\n",
            "loss_test:  65.4741208615304\n",
            "question:  i go to pcc.\n",
            "gold answer:  do you like it there?\n",
            "generated answer:  i don't you you .\n",
            "________\n",
            "loss_test:  65.4741208615304\n",
            "question:  do you like it there?\n",
            "gold answer:  it's okay. it's a really big campus.\n",
            "generated answer:  i don't want to .\n",
            "________\n",
            "loss_test:  65.4741208615304\n",
            "question:  it's okay. it's a really big campus.\n",
            "gold answer:  good luck with school.\n",
            "generated answer:  i hope you . .\n",
            "________\n",
            "loss_test:  65.4741208615304\n",
            "question:  good luck with school.\n",
            "gold answer:  thank you very much.\n",
            "generated answer:  i don't know .\n",
            "________\n",
            "loss_test:  65.4741208615304\n",
            "question:  how's it going?\n",
            "gold answer:  i'm doing well. how about you?\n",
            "generated answer:  i don't know .\n",
            "________\n",
            "loss_test:  65.4741208615304\n",
            "question:  i'm doing well. how about you?\n",
            "gold answer:  never better, thanks.\n",
            "generated answer:  i don't want to go to go to go .\n",
            "________\n",
            "loss_test:  65.4741208615304\n",
            "question:  never better, thanks.\n",
            "gold answer:  so how have you been lately?\n",
            "generated answer:  i don't know .\n",
            "________\n",
            "loss_test:  65.4741208615304\n",
            "question:  so how have you been lately?\n",
            "gold answer:  i've actually been pretty good. you?\n",
            "generated answer:  i don't want to . .\n",
            "________\n"
          ],
          "name": "stdout"
        }
      ]
    },
    {
      "cell_type": "code",
      "metadata": {
        "id": "MFTPIiwAqA_L"
      },
      "source": [
        "torch.save(encoder.state_dict(), \"/content/drive/My Drive/Chatbot/eval2/encoder_normalAttentionSeq2SeqDialogs.pth\")\n",
        "torch.save(decoder.state_dict(), \"/content/drive/My Drive/Chatbot/eval2/decoder_normalAttentionSeq2SeqDialogs.pth\")"
      ],
      "execution_count": null,
      "outputs": []
    },
    {
      "cell_type": "code",
      "metadata": {
        "id": "sUFLWFjBTFkD"
      },
      "source": [
        "#Encoder\n",
        "import torch\n",
        "import torch.nn as nn\n",
        "import torch.nn.functional as F\n",
        "hidden_size = 256\n",
        "embedding_size = 50\n",
        "drop_out = 0\n",
        "n_layer_en = 1\n",
        "\n",
        "class Encoder(nn.Module):\n",
        "  def __init__(self):\n",
        "    super(Encoder, self).__init__()\n",
        "\n",
        "    self.embedding_layer = nn.Embedding(vocab_size, embedding_size, padding_idx=pad_index)\n",
        "\n",
        "    self.bigru = nn.GRU(embedding_size, hidden_size, n_layer_en, bidirectional=True, batch_first=True, dropout=drop_out)\n",
        "    \n",
        "    self.linear_e = nn.Linear(2*hidden_size, 2*hidden_size, bias=False)\n",
        "    \n",
        "  def forward(self, question):\n",
        "    question_embedded = self.embedding_layer(question.unsqueeze(0))\n",
        "\n",
        "    encoder_out, hidden = self.bigru(question_embedded)\n",
        "    question_fwd = hidden[0:hidden.size(0):2]\n",
        "    question_bwd = hidden[1:hidden.size(0):2]\n",
        "    question_encoded = torch.cat([question_fwd, question_bwd], dim=2)\n",
        "\n",
        "    question_encoded = self.linear_e(question_encoded)\n",
        "    question_hidden = torch.stack([question_encoded[0, 0, :hidden_size], question_encoded[0, 0, hidden_size:]]).unsqueeze(1)\n",
        "\n",
        "    return encoder_out, question_hidden, question_encoded\n",
        "\n",
        "encoder = Encoder()\n",
        "encoder = encoder.to(device)\n",
        "\n",
        "n_layer_de = 2\n",
        "class Attention(nn.Module):\n",
        "  def __init__(self):\n",
        "    super(Attention, self).__init__()\n",
        "\n",
        "    self.linearV = nn.Linear(hidden_size, 1, bias=False)\n",
        "    self.linearS = nn.Linear(2*hidden_size, hidden_size)\n",
        "    self.linearH = nn.Linear(n_layer_de*hidden_size, hidden_size)\n",
        "    self.cover_layer = nn.Linear(input_size, hidden_size, bias=False)\n",
        "    \n",
        "  def forward(self, s, h, mask, cover):\n",
        "    S = self.linearS(s)\n",
        "    H = self.linearH(h)\n",
        "    C = self.cover_layer(cover)\n",
        "    v = torch.tanh(self.linearV(S + H + C)).squeeze(-1).unsqueeze(0)\n",
        "    \n",
        "    if mask is not None:\n",
        "      mask = mask.unsqueeze(0).unsqueeze(0)\n",
        "      v.data.masked_fill_(\n",
        "                mask == 0, -6.0\n",
        "            )\n",
        "    a = F.softmax(v, dim=-1)\n",
        "    context = torch.bmm(a, s)\n",
        "    next_cover = cover + a\n",
        "\n",
        "    return a, next_cover, context\n",
        "\n",
        "\n",
        "n_layer_de = 2\n",
        "eps = 1e-40\n",
        "class Decoder(nn.Module):\n",
        "  def __init__(self):\n",
        "    super(Decoder, self).__init__()\n",
        "\n",
        "    self.embedding_layer = nn.Embedding(vocab_size, embedding_size, padding_idx=pad_index)\n",
        "\n",
        "    self.gru = nn.GRU(embedding_size, hidden_size, n_layer_de, bidirectional=False, batch_first=True, dropout=drop_out)\n",
        "    self.attention = Attention()\n",
        "    self.linear_d = nn.Linear(3*hidden_size, hidden_size)\n",
        "    self.vocab_linear = nn.Linear(hidden_size, vocab_size)\n",
        "    \n",
        "  def forward(self, encoder_out, question_encoded, decoder_out, decoder_hidden, question, cover, step):\n",
        "\n",
        "    input_emb = self.embedding_layer(decoder_out)\n",
        "\n",
        "    gru_out, gru_hidden = self.gru(input_emb, decoder_hidden)\n",
        "\n",
        "    h = torch.cat([gru_hidden[0], gru_hidden[1]], dim=-1).unsqueeze(0)\n",
        "\n",
        "    a, next_cover, context = attention(encoder_out, h, question, cover)\n",
        "    context_out = torch.cat([gru_out, context], dim=-1)\n",
        "\n",
        "    decoder_out = F.relu(self.linear_d(context_out))\n",
        "    decoder_out = F.log_softmax(self.vocab_linear(decoder_out)+eps, dim=-1)    \n",
        "    return gru_hidden, decoder_out, a, next_cover\n",
        "\n",
        "decoder = Decoder()\n",
        "decoder = decoder.to(device)"
      ],
      "execution_count": null,
      "outputs": []
    },
    {
      "cell_type": "code",
      "metadata": {
        "id": "jI2e5J0WaEns"
      },
      "source": [
        "dir(torch.load(encoder_path))"
      ],
      "execution_count": null,
      "outputs": []
    },
    {
      "cell_type": "code",
      "metadata": {
        "id": "Tmq2l7t3TFpG"
      },
      "source": [
        "encoder = Encoder()\n",
        "decoder = Decoder()\n",
        "encoder_path = \"/content/drive/My Drive/Chatbot/eval2/encoder_normalAttentionSeq2SeqDialogs.pth\"\n",
        "decoder_path = \"/content/drive/My Drive/Chatbot/eval2/decoder_normalAttentionSeq2SeqDialogs.pth\"\n",
        "encoder.load_state_dict(torch.load(encoder_path))\n",
        "decoder.load_state_dict(torch.load(decoder_path))\n",
        "encoder = encoder.to(device)\n",
        "decoder = decoder.to(device)"
      ],
      "execution_count": null,
      "outputs": []
    },
    {
      "cell_type": "code",
      "metadata": {
        "id": "Nth1naizTFuE",
        "outputId": "fedfaea0-8056-469f-8d69-a8f7307ad956",
        "colab": {
          "base_uri": "https://localhost:8080/",
          "height": 202
        }
      },
      "source": [
        "encoder = encoder.to(device)\n",
        "decoder = decoder.to(device)\n",
        "call_test(2777)"
      ],
      "execution_count": null,
      "outputs": [
        {
          "output_type": "error",
          "ename": "NameError",
          "evalue": "ignored",
          "traceback": [
            "\u001b[0;31m---------------------------------------------------------------------------\u001b[0m",
            "\u001b[0;31mNameError\u001b[0m                                 Traceback (most recent call last)",
            "\u001b[0;32m<ipython-input-37-d254263015e4>\u001b[0m in \u001b[0;36m<module>\u001b[0;34m()\u001b[0m\n\u001b[1;32m      1\u001b[0m \u001b[0mencoder\u001b[0m \u001b[0;34m=\u001b[0m \u001b[0mencoder\u001b[0m\u001b[0;34m.\u001b[0m\u001b[0mto\u001b[0m\u001b[0;34m(\u001b[0m\u001b[0mdevice\u001b[0m\u001b[0;34m)\u001b[0m\u001b[0;34m\u001b[0m\u001b[0;34m\u001b[0m\u001b[0m\n\u001b[1;32m      2\u001b[0m \u001b[0mdecoder\u001b[0m \u001b[0;34m=\u001b[0m \u001b[0mdecoder\u001b[0m\u001b[0;34m.\u001b[0m\u001b[0mto\u001b[0m\u001b[0;34m(\u001b[0m\u001b[0mdevice\u001b[0m\u001b[0;34m)\u001b[0m\u001b[0;34m\u001b[0m\u001b[0;34m\u001b[0m\u001b[0m\n\u001b[0;32m----> 3\u001b[0;31m \u001b[0mcall_test\u001b[0m\u001b[0;34m(\u001b[0m\u001b[0;36m2777\u001b[0m\u001b[0;34m)\u001b[0m\u001b[0;34m\u001b[0m\u001b[0;34m\u001b[0m\u001b[0m\n\u001b[0m",
            "\u001b[0;31mNameError\u001b[0m: name 'call_test' is not defined"
          ]
        }
      ]
    },
    {
      "cell_type": "code",
      "metadata": {
        "id": "GCnVmtb1TFrj"
      },
      "source": [
        "def test_eval(data_num, teacher_forcing_p, alpha):\n",
        "  encoder.eval()\n",
        "  decoder.eval()\n",
        "\n",
        "  question, answer = set_input_data(data_num)\n",
        "\n",
        "  rand = np.random.rand()\n",
        "  if teacher_forcing_p > rand:\n",
        "      teacher_forcing = True\n",
        "  else:\n",
        "      teacher_forcing = False\n",
        "\n",
        "  length = answer_max + 2\n",
        "\n",
        "  #encoder\n",
        "  encoder_out, question_hidden, question_encoded = encoder(question)\n",
        "\n",
        "  decoder_out = torch.LongTensor([sos_index]).to(device).unsqueeze(0)\n",
        "  decoder_hidden = question_hidden\n",
        "  next_cover = torch.zeros(1, 1, input_size).to(device).requires_grad_()\n",
        "  cover_index = []\n",
        "  a_index = []\n",
        "\n",
        "  log_logit_index = []\n",
        "  word_index = []\n",
        "  for step in range(length):\n",
        "    #decoder\n",
        "    cover = next_cover\n",
        "    decoder_hidden, decoder_out, a, next_cover = decoder(encoder_out, question_encoded, decoder_out, decoder_hidden, question, next_cover, step)\n",
        "    log_logit_index.append(decoder_out.squeeze(0))\n",
        "    if teacher_forcing:\n",
        "      decoder_out = answer[step].unsqueeze(0).unsqueeze(0)\n",
        "    else:\n",
        "      decoder_out = decoder_out.argmax(-1)\n",
        "    word_index.append(decoder_out)\n",
        "\n",
        "    cover_index.append(cover)\n",
        "    a_index.append(a)\n",
        "\n",
        "  word_index = torch.cat(word_index, dim=-1).squeeze(0)\n",
        "\n",
        "  cover_index = torch.cat(cover_index, dim=0)\n",
        "  a_index = torch.cat(a_index, dim=0)\n",
        "  cov_loss = torch.sum(torch.min(cover_index, a_index))\n",
        "  log_logit_index = torch.cat(log_logit_index, dim=0)\n",
        "  loss = criterion(log_logit_index, answer) + alpha*cov_loss\n",
        "\n",
        "  return loss.item(), word_index, a_index, question"
      ],
      "execution_count": null,
      "outputs": []
    },
    {
      "cell_type": "code",
      "metadata": {
        "id": "KLm_EyAnctvD"
      },
      "source": [
        "def decode_ids_test(ids):\n",
        "  ids = ids.to(device2).detach().clone().numpy()\n",
        "  new_ids = []\n",
        "  answer = []\n",
        "  for i in range(len(ids)):\n",
        "    id = ids[i]\n",
        "    new_ids.append(id)\n",
        "    \n",
        "  for i in range(len(new_ids)):\n",
        "    answer.append(transform_vocab.i2w[new_ids[i]])\n",
        " \n",
        "  \n",
        "  return answer"
      ],
      "execution_count": null,
      "outputs": []
    },
    {
      "cell_type": "code",
      "metadata": {
        "id": "r8AvJw1phEhY"
      },
      "source": [
        "def test(data_num, teacher_forcing_p):\n",
        "  encoder.eval()\n",
        "  decoder.eval()\n",
        "\n",
        "  question, answer = set_input_data(data_num)\n",
        "\n",
        "  rand = np.random.rand()\n",
        "  if teacher_forcing_p > rand:\n",
        "      teacher_forcing = True\n",
        "  else:\n",
        "      teacher_forcing = False\n",
        "\n",
        "  length = answer_max + 2\n",
        "\n",
        "  #encoder\n",
        "  encoder_out, question_hidden, question_encoded = encoder(question)\n",
        "\n",
        "  decoder_out = torch.LongTensor([sos_index]).to(device).unsqueeze(0)\n",
        "  decoder_hidden = question_hidden\n",
        "\n",
        "\n",
        "  a_index = []\n",
        "\n",
        "  log_logit_index = []\n",
        "  word_index = []\n",
        "  for step in range(length):\n",
        "    #decoder\n",
        "\n",
        "    decoder_hidden, decoder_out, a = decoder(encoder_out, question_encoded, decoder_out, decoder_hidden, question, step)\n",
        "    log_logit_index.append(decoder_out.squeeze(0))\n",
        "    if teacher_forcing:\n",
        "      decoder_out = answer[step].unsqueeze(0).unsqueeze(0)\n",
        "    else:\n",
        "      decoder_out = decoder_out.argmax(-1)\n",
        "    word_index.append(decoder_out)\n",
        "\n",
        "\n",
        "    a_index.append(a)\n",
        "\n",
        "  word_index = torch.cat(word_index, dim=-1).squeeze(0)\n",
        "\n",
        "  a_index = torch.cat(a_index, dim=0)\n",
        "\n",
        "  log_logit_index = torch.cat(log_logit_index, dim=0)\n",
        "  loss = criterion(log_logit_index, answer)\n",
        "\n",
        "  return loss.item(), word_index, a_index, question"
      ],
      "execution_count": null,
      "outputs": []
    },
    {
      "cell_type": "code",
      "metadata": {
        "id": "_VCBOjOETGzW"
      },
      "source": [
        "import seaborn as sns\n",
        "def visualize_attention(data_num):\n",
        "  loss,word_index,a_index, question = test(data_num, 0)\n",
        "  a_index2 = a_index.squeeze(1).to(device2).detach().clone().numpy()\n",
        "  a_index2 = np.transpose(a_index2)\n",
        "  index = decode_ids_test(question)\n",
        "  column = decode_ids_test(word_index)\n",
        "  df = pd.DataFrame(data=a_index2, index=index, columns=column)\n",
        "\n",
        "  sns.heatmap(df,linewidths=.5,square=True,cmap='Blues',xticklabels=1,yticklabels=1)\n",
        "  call_test(data_num)"
      ],
      "execution_count": null,
      "outputs": []
    },
    {
      "cell_type": "code",
      "metadata": {
        "id": "myHSdg4_TFmu",
        "outputId": "0d1f1073-9efb-4402-a6e4-c9840a1730e7",
        "colab": {
          "base_uri": "https://localhost:8080/",
          "height": 538
        }
      },
      "source": [
        "visualize_attention(2777)"
      ],
      "execution_count": null,
      "outputs": [
        {
          "output_type": "error",
          "ename": "NameError",
          "evalue": "ignored",
          "traceback": [
            "\u001b[0;31m---------------------------------------------------------------------------\u001b[0m",
            "\u001b[0;31mNameError\u001b[0m                                 Traceback (most recent call last)",
            "\u001b[0;32m<ipython-input-47-8690dddd10cf>\u001b[0m in \u001b[0;36m<module>\u001b[0;34m()\u001b[0m\n\u001b[0;32m----> 1\u001b[0;31m \u001b[0mvisualize_attention\u001b[0m\u001b[0;34m(\u001b[0m\u001b[0;36m2777\u001b[0m\u001b[0;34m)\u001b[0m\u001b[0;34m\u001b[0m\u001b[0;34m\u001b[0m\u001b[0m\n\u001b[0m",
            "\u001b[0;32m<ipython-input-46-d9bfb67574c0>\u001b[0m in \u001b[0;36mvisualize_attention\u001b[0;34m(data_num)\u001b[0m\n\u001b[1;32m      9\u001b[0m \u001b[0;34m\u001b[0m\u001b[0m\n\u001b[1;32m     10\u001b[0m   \u001b[0msns\u001b[0m\u001b[0;34m.\u001b[0m\u001b[0mheatmap\u001b[0m\u001b[0;34m(\u001b[0m\u001b[0mdf\u001b[0m\u001b[0;34m,\u001b[0m\u001b[0mlinewidths\u001b[0m\u001b[0;34m=\u001b[0m\u001b[0;36m.5\u001b[0m\u001b[0;34m,\u001b[0m\u001b[0msquare\u001b[0m\u001b[0;34m=\u001b[0m\u001b[0;32mTrue\u001b[0m\u001b[0;34m,\u001b[0m\u001b[0mcmap\u001b[0m\u001b[0;34m=\u001b[0m\u001b[0;34m'Blues'\u001b[0m\u001b[0;34m,\u001b[0m\u001b[0mxticklabels\u001b[0m\u001b[0;34m=\u001b[0m\u001b[0;36m1\u001b[0m\u001b[0;34m,\u001b[0m\u001b[0myticklabels\u001b[0m\u001b[0;34m=\u001b[0m\u001b[0;36m1\u001b[0m\u001b[0;34m)\u001b[0m\u001b[0;34m\u001b[0m\u001b[0;34m\u001b[0m\u001b[0m\n\u001b[0;32m---> 11\u001b[0;31m   \u001b[0mcall_test\u001b[0m\u001b[0;34m(\u001b[0m\u001b[0mdata_num\u001b[0m\u001b[0;34m)\u001b[0m\u001b[0;34m\u001b[0m\u001b[0;34m\u001b[0m\u001b[0m\n\u001b[0m",
            "\u001b[0;31mNameError\u001b[0m: name 'call_test' is not defined"
          ]
        },
        {
          "output_type": "display_data",
          "data": {
            "image/png": "[encoded data removed]",
            "text/plain": [
              "<Figure size 432x288 with 2 Axes>"
            ]
          },
          "metadata": {
            "tags": [],
            "needs_background": "light"
          }
        }
      ]
    },
    {
      "cell_type": "code",
      "metadata": {
        "id": "knnACOw-TFYu",
        "outputId": "41360315-320b-4d28-c313-e8fe699013cd",
        "colab": {
          "base_uri": "https://localhost:8080/",
          "height": 538
        }
      },
      "source": [
        "visualize_attention(1000)"
      ],
      "execution_count": null,
      "outputs": [
        {
          "output_type": "error",
          "ename": "NameError",
          "evalue": "ignored",
          "traceback": [
            "\u001b[0;31m---------------------------------------------------------------------------\u001b[0m",
            "\u001b[0;31mNameError\u001b[0m                                 Traceback (most recent call last)",
            "\u001b[0;32m<ipython-input-48-f924ec1423f1>\u001b[0m in \u001b[0;36m<module>\u001b[0;34m()\u001b[0m\n\u001b[0;32m----> 1\u001b[0;31m \u001b[0mvisualize_attention\u001b[0m\u001b[0;34m(\u001b[0m\u001b[0;36m1000\u001b[0m\u001b[0;34m)\u001b[0m\u001b[0;34m\u001b[0m\u001b[0;34m\u001b[0m\u001b[0m\n\u001b[0m",
            "\u001b[0;32m<ipython-input-46-d9bfb67574c0>\u001b[0m in \u001b[0;36mvisualize_attention\u001b[0;34m(data_num)\u001b[0m\n\u001b[1;32m      9\u001b[0m \u001b[0;34m\u001b[0m\u001b[0m\n\u001b[1;32m     10\u001b[0m   \u001b[0msns\u001b[0m\u001b[0;34m.\u001b[0m\u001b[0mheatmap\u001b[0m\u001b[0;34m(\u001b[0m\u001b[0mdf\u001b[0m\u001b[0;34m,\u001b[0m\u001b[0mlinewidths\u001b[0m\u001b[0;34m=\u001b[0m\u001b[0;36m.5\u001b[0m\u001b[0;34m,\u001b[0m\u001b[0msquare\u001b[0m\u001b[0;34m=\u001b[0m\u001b[0;32mTrue\u001b[0m\u001b[0;34m,\u001b[0m\u001b[0mcmap\u001b[0m\u001b[0;34m=\u001b[0m\u001b[0;34m'Blues'\u001b[0m\u001b[0;34m,\u001b[0m\u001b[0mxticklabels\u001b[0m\u001b[0;34m=\u001b[0m\u001b[0;36m1\u001b[0m\u001b[0;34m,\u001b[0m\u001b[0myticklabels\u001b[0m\u001b[0;34m=\u001b[0m\u001b[0;36m1\u001b[0m\u001b[0;34m)\u001b[0m\u001b[0;34m\u001b[0m\u001b[0;34m\u001b[0m\u001b[0m\n\u001b[0;32m---> 11\u001b[0;31m   \u001b[0mcall_test\u001b[0m\u001b[0;34m(\u001b[0m\u001b[0mdata_num\u001b[0m\u001b[0;34m)\u001b[0m\u001b[0;34m\u001b[0m\u001b[0;34m\u001b[0m\u001b[0m\n\u001b[0m",
            "\u001b[0;31mNameError\u001b[0m: name 'call_test' is not defined"
          ]
        },
        {
          "output_type": "display_data",
          "data": {
            "image/png": "[encoded data removed]",
            "text/plain": [
              "<Figure size 432x288 with 2 Axes>"
            ]
          },
          "metadata": {
            "tags": [],
            "needs_background": "light"
          }
        }
      ]
    },
    {
      "cell_type": "code",
      "metadata": {
        "id": "2YgQgEDNTFTS"
      },
      "source": [
        "visualize_attention(12)"
      ],
      "execution_count": null,
      "outputs": []
    },
    {
      "cell_type": "code",
      "metadata": {
        "id": "NAomO6WFk9Rb",
        "outputId": "390f56d5-8736-45bf-f421-686ee60ec243",
        "colab": {
          "base_uri": "https://localhost:8080/",
          "height": 535
        }
      },
      "source": [
        "visualize_attention(3500)"
      ],
      "execution_count": null,
      "outputs": [
        {
          "output_type": "error",
          "ename": "NameError",
          "evalue": "ignored",
          "traceback": [
            "\u001b[0;31m---------------------------------------------------------------------------\u001b[0m",
            "\u001b[0;31mNameError\u001b[0m                                 Traceback (most recent call last)",
            "\u001b[0;32m<ipython-input-49-55c16be9a0e8>\u001b[0m in \u001b[0;36m<module>\u001b[0;34m()\u001b[0m\n\u001b[0;32m----> 1\u001b[0;31m \u001b[0mvisualize_attention\u001b[0m\u001b[0;34m(\u001b[0m\u001b[0;36m3500\u001b[0m\u001b[0;34m)\u001b[0m\u001b[0;34m\u001b[0m\u001b[0;34m\u001b[0m\u001b[0m\n\u001b[0m",
            "\u001b[0;32m<ipython-input-46-d9bfb67574c0>\u001b[0m in \u001b[0;36mvisualize_attention\u001b[0;34m(data_num)\u001b[0m\n\u001b[1;32m      9\u001b[0m \u001b[0;34m\u001b[0m\u001b[0m\n\u001b[1;32m     10\u001b[0m   \u001b[0msns\u001b[0m\u001b[0;34m.\u001b[0m\u001b[0mheatmap\u001b[0m\u001b[0;34m(\u001b[0m\u001b[0mdf\u001b[0m\u001b[0;34m,\u001b[0m\u001b[0mlinewidths\u001b[0m\u001b[0;34m=\u001b[0m\u001b[0;36m.5\u001b[0m\u001b[0;34m,\u001b[0m\u001b[0msquare\u001b[0m\u001b[0;34m=\u001b[0m\u001b[0;32mTrue\u001b[0m\u001b[0;34m,\u001b[0m\u001b[0mcmap\u001b[0m\u001b[0;34m=\u001b[0m\u001b[0;34m'Blues'\u001b[0m\u001b[0;34m,\u001b[0m\u001b[0mxticklabels\u001b[0m\u001b[0;34m=\u001b[0m\u001b[0;36m1\u001b[0m\u001b[0;34m,\u001b[0m\u001b[0myticklabels\u001b[0m\u001b[0;34m=\u001b[0m\u001b[0;36m1\u001b[0m\u001b[0;34m)\u001b[0m\u001b[0;34m\u001b[0m\u001b[0;34m\u001b[0m\u001b[0m\n\u001b[0;32m---> 11\u001b[0;31m   \u001b[0mcall_test\u001b[0m\u001b[0;34m(\u001b[0m\u001b[0mdata_num\u001b[0m\u001b[0;34m)\u001b[0m\u001b[0;34m\u001b[0m\u001b[0;34m\u001b[0m\u001b[0m\n\u001b[0m",
            "\u001b[0;31mNameError\u001b[0m: name 'call_test' is not defined"
          ]
        },
        {
          "output_type": "display_data",
          "data": {
            "image/png": "[encoded data removed]",
            "text/plain": [
              "<Figure size 432x288 with 2 Axes>"
            ]
          },
          "metadata": {
            "tags": [],
            "needs_background": "light"
          }
        }
      ]
    },
    {
      "cell_type": "code",
      "metadata": {
        "id": "o_cW7DUSlLsg"
      },
      "source": [
        "visualize_attention(3333)"
      ],
      "execution_count": null,
      "outputs": []
    },
    {
      "cell_type": "code",
      "metadata": {
        "id": "rsbeTfQrlBUv"
      },
      "source": [
        "dataset_num"
      ],
      "execution_count": null,
      "outputs": []
    },
    {
      "cell_type": "code",
      "metadata": {
        "id": "1MBMpRkwQ9Tq"
      },
      "source": [
        "for i in decoder.parameters():\n",
        "  print(i)"
      ],
      "execution_count": null,
      "outputs": []
    },
    {
      "cell_type": "code",
      "metadata": {
        "id": "BqQ31VSbTiuQ"
      },
      "source": [
        "a = np.random.choice(list(range(0, 1800)))"
      ],
      "execution_count": null,
      "outputs": []
    },
    {
      "cell_type": "code",
      "metadata": {
        "id": "hvN2uzoKVMBU"
      },
      "source": [
        "answer"
      ],
      "execution_count": null,
      "outputs": []
    },
    {
      "cell_type": "code",
      "metadata": {
        "id": "tmMDA36sVpC7"
      },
      "source": [
        ""
      ],
      "execution_count": null,
      "outputs": []
    }
  ]
}